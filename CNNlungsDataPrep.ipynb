{
 "cells": [
  {
   "cell_type": "raw",
   "id": "e9212fd3",
   "metadata": {},
   "source": [
    "#EXECUTE ONLY ONCE\n",
    "# Define paths\n",
    "data_dir = r'C:\\Users\\Lenovo\\Documents\\ChestXRay2017\\chest_xray'\n",
    "train_dir = os.path.join(data_dir, 'train')\n",
    "val_dir = os.path.join(data_dir, 'val')\n",
    "\n",
    "# Create val directory and subdirectories if they don't exist\n",
    "os.makedirs(val_dir, exist_ok=True)\n",
    "for category in ['NORMAL', 'PNEUMONIA']:\n",
    "    os.makedirs(os.path.join(val_dir, category), exist_ok=True)\n",
    "\n",
    "# Function to move random images from train to val\n",
    "def create_val_set(train_dir, val_dir, num_val_images=532):\n",
    "    val_count = sum([len(files) for r, d, files in os.walk(val_dir)])\n",
    "    if val_count >= num_val_images:\n",
    "        print(f\"Validation set already contains {val_count} images.\")\n",
    "        return\n",
    "    \n",
    "    all_images = []\n",
    "    for category in ['NORMAL', 'PNEUMONIA']:\n",
    "        category_path = os.path.join(train_dir, category)\n",
    "        images = os.listdir(category_path)\n",
    "        for img in images:\n",
    "            all_images.append((category, img))\n",
    "    \n",
    "    if len(all_images) < num_val_images:\n",
    "        print(f\"Not enough images in the train set to move {num_val_images} to validation.\")\n",
    "        num_val_images = len(all_images)\n",
    "    \n",
    "    val_images = random.sample(all_images, num_val_images)\n",
    "    \n",
    "    for category, img in val_images:\n",
    "        src_path = os.path.join(train_dir, category, img)\n",
    "        dest_path = os.path.join(val_dir, category, img)\n",
    "        shutil.move(src_path, dest_path)\n",
    "\n",
    "create_val_set(train_dir, val_dir, num_val_images=532)"
   ]
  }
 ],
 "metadata": {
  "kernelspec": {
   "display_name": "Python 3 (ipykernel)",
   "language": "python",
   "name": "python3"
  },
  "language_info": {
   "codemirror_mode": {
    "name": "ipython",
    "version": 3
   },
   "file_extension": ".py",
   "mimetype": "text/x-python",
   "name": "python",
   "nbconvert_exporter": "python",
   "pygments_lexer": "ipython3",
   "version": "3.9.12"
  }
 },
 "nbformat": 4,
 "nbformat_minor": 5
}
